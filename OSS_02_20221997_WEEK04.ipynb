{
  "nbformat": 4,
  "nbformat_minor": 0,
  "metadata": {
    "colab": {
      "provenance": []
    },
    "kernelspec": {
      "name": "python3",
      "display_name": "Python 3"
    },
    "language_info": {
      "name": "python"
    }
  },
  "cells": [
    {
      "cell_type": "code",
      "execution_count": 1,
      "metadata": {
        "colab": {
          "base_uri": "https://localhost:8080/"
        },
        "id": "qWeTQRdWFiIr",
        "outputId": "8c030872-18bc-40a0-9c94-48ae174879ab"
      },
      "outputs": [
        {
          "output_type": "stream",
          "name": "stdout",
          "text": [
            "[36, 42, 38, 33, 64]\n"
          ]
        }
      ],
      "source": [
        "#1\n",
        "symbols = \"$*&!@\"\n",
        "codes = []\n",
        "\n",
        "for symbol in symbols:\n",
        "  codes.append(ord(symbol))\n",
        "\n",
        "print(codes)"
      ]
    },
    {
      "cell_type": "code",
      "source": [
        "#2\n",
        "symbols = \"$*&!@\"\n",
        "codes = [ord(symbol) for symbol in symbols]\n",
        "\n",
        "print(codes)"
      ],
      "metadata": {
        "colab": {
          "base_uri": "https://localhost:8080/"
        },
        "id": "sCOr80huP7g5",
        "outputId": "64ad6860-e4e2-45a2-f1ba-070b03098ad0"
      },
      "execution_count": 2,
      "outputs": [
        {
          "output_type": "stream",
          "name": "stdout",
          "text": [
            "[36, 42, 38, 33, 64]\n"
          ]
        }
      ]
    },
    {
      "cell_type": "code",
      "source": [
        "#3\n",
        "x = '\"!~$$*&!@'\n",
        "dummy = [ord(x) for x in x]\n",
        "\n",
        "print(x)\n",
        "print(dummy)"
      ],
      "metadata": {
        "colab": {
          "base_uri": "https://localhost:8080/"
        },
        "id": "ncxNqs1pQBYi",
        "outputId": "4c0a2e4f-6f52-4552-f1b6-1e606ae26994"
      },
      "execution_count": 5,
      "outputs": [
        {
          "output_type": "stream",
          "name": "stdout",
          "text": [
            "\"!~$$*&!@\n",
            "[34, 33, 126, 36, 36, 42, 38, 33, 64]\n"
          ]
        }
      ]
    },
    {
      "cell_type": "code",
      "source": [
        "#4\n",
        "symbols = '\"!~$$*&!@'\n",
        "beyond_ascii = [ord(s) for s in symbols if ord(s) > 32]\n",
        "\n",
        "print(beyond_ascii)"
      ],
      "metadata": {
        "colab": {
          "base_uri": "https://localhost:8080/"
        },
        "id": "NzoM_krjQAop",
        "outputId": "8217fe85-9f87-45a4-b354-fc8a9113c5eb"
      },
      "execution_count": 6,
      "outputs": [
        {
          "output_type": "stream",
          "name": "stdout",
          "text": [
            "[34, 33, 126, 36, 36, 42, 38, 33, 64]\n"
          ]
        }
      ]
    },
    {
      "cell_type": "code",
      "source": [
        "#5\n",
        "symbols = '\"!~$$*&!@'\n",
        "beyond_ascii = list(filter(lambda c: c > 64, map(ord, symbols)))\n",
        "\n",
        "print(beyond_ascii,'\\n')\n",
        "\n",
        "print(f\"Map function:\\n>>> {map(ord, symbols)}\")\n",
        "print(f\"List after map:\\n>>> {list(map(ord, symbols))}\")"
      ],
      "metadata": {
        "colab": {
          "base_uri": "https://localhost:8080/"
        },
        "id": "pG02WAn2QtNi",
        "outputId": "c7d6eabc-83a9-45db-c59a-32a75a2011d7"
      },
      "execution_count": 7,
      "outputs": [
        {
          "output_type": "stream",
          "name": "stdout",
          "text": [
            "[126] \n",
            "\n",
            "Map function:\n",
            ">>> <map object at 0x796a2d003100>\n",
            "List after map:\n",
            ">>> [34, 33, 126, 36, 36, 42, 38, 33, 64]\n"
          ]
        }
      ]
    },
    {
      "cell_type": "code",
      "source": [
        "#6\n",
        "colors = ['black', 'white']\n",
        "sizes = ['S', 'M', 'L']\n",
        "tshirts = [(color, size) for color in colors for size in sizes]\n",
        "\n",
        "print(tshirts)\n",
        "\n",
        "for color in colors:\n",
        "  for size in sizes:\n",
        "    print((color, size))"
      ],
      "metadata": {
        "colab": {
          "base_uri": "https://localhost:8080/"
        },
        "id": "sAr5U2bGRMyJ",
        "outputId": "aa3e8317-37a1-4f9f-a643-2bb9cc044e55"
      },
      "execution_count": 9,
      "outputs": [
        {
          "output_type": "stream",
          "name": "stdout",
          "text": [
            "[('black', 'S'), ('black', 'M'), ('black', 'L'), ('white', 'S'), ('white', 'M'), ('white', 'L')]\n",
            "('black', 'S')\n",
            "('black', 'M')\n",
            "('black', 'L')\n",
            "('white', 'S')\n",
            "('white', 'M')\n",
            "('white', 'L')\n"
          ]
        }
      ]
    },
    {
      "cell_type": "code",
      "source": [
        "#7\n",
        "symbols = \"!#^&&#\"\n",
        "ord_s = tuple(ord(s) for s in symbols if ord(s))\n",
        "\n",
        "print(ord_s)"
      ],
      "metadata": {
        "colab": {
          "base_uri": "https://localhost:8080/"
        },
        "id": "RJnrZitpRv-p",
        "outputId": "0869c209-c6b9-4b01-d686-c3ab77055e28"
      },
      "execution_count": 10,
      "outputs": [
        {
          "output_type": "stream",
          "name": "stdout",
          "text": [
            "(33, 35, 94, 38, 38, 35)\n"
          ]
        }
      ]
    },
    {
      "cell_type": "code",
      "source": [
        "#8\n",
        "colors = ['black', 'white']\n",
        "sizes = ['S', 'M', 'L']\n",
        "for tshits in ('{} {}'.format(c, s) for s in sizes for c in colors):\n",
        "  print(tshits)"
      ],
      "metadata": {
        "colab": {
          "base_uri": "https://localhost:8080/"
        },
        "id": "C5u2SlxLR-dh",
        "outputId": "d9f07e63-2ee6-4c37-d6d9-d03d481d7a17"
      },
      "execution_count": 11,
      "outputs": [
        {
          "output_type": "stream",
          "name": "stdout",
          "text": [
            "black S\n",
            "white S\n",
            "black M\n",
            "white M\n",
            "black L\n",
            "white L\n"
          ]
        }
      ]
    },
    {
      "cell_type": "code",
      "source": [
        "#9\n",
        "lax_coordinates = (33.9452, -118.408056)\n",
        "city, year, pop, chg, area = ('Tokyo', 2003, 32450, 0.66, 8014)\n",
        "traveler_ids = [('USA', '31195855'),\n",
        "                ('BRA', 'CE342567'),\n",
        "                ('ESP', 'XDA205856')]\n",
        "\n",
        "for passport in sorted(traveler_ids):\n",
        "  print('%s/%s' % passport)\n",
        "  print('{}/{}'.format(passport[0], passport[1]))\n",
        "  print(f'{passport[0]}/{passport[1]}')"
      ],
      "metadata": {
        "colab": {
          "base_uri": "https://localhost:8080/"
        },
        "id": "0kjkOXQMSSn4",
        "outputId": "19f1fafa-83eb-44cf-94fe-bd47d7c2c98e"
      },
      "execution_count": 12,
      "outputs": [
        {
          "output_type": "stream",
          "name": "stdout",
          "text": [
            "BRA/CE342567\n",
            "BRA/CE342567\n",
            "BRA/CE342567\n",
            "ESP/XDA205856\n",
            "ESP/XDA205856\n",
            "ESP/XDA205856\n",
            "USA/31195855\n",
            "USA/31195855\n",
            "USA/31195855\n"
          ]
        }
      ]
    },
    {
      "cell_type": "code",
      "source": [
        "#10\n",
        "for country, _ in traveler_ids:\n",
        "  print(country)"
      ],
      "metadata": {
        "colab": {
          "base_uri": "https://localhost:8080/"
        },
        "id": "ARxOcH6nTJbZ",
        "outputId": "6dccfb1b-6ff6-45e2-be78-f1e0d34854af"
      },
      "execution_count": 13,
      "outputs": [
        {
          "output_type": "stream",
          "name": "stdout",
          "text": [
            "USA\n",
            "BRA\n",
            "ESP\n"
          ]
        }
      ]
    },
    {
      "cell_type": "code",
      "source": [
        "#11\n",
        "lax_coordinates = (33.9452, -118.408056)\n",
        "latitude, longitude = lax_coordinates\n",
        "print(latitude)\n",
        "print(longitude)"
      ],
      "metadata": {
        "colab": {
          "base_uri": "https://localhost:8080/"
        },
        "id": "tpu-Uf0vTNT4",
        "outputId": "2671c42e-24d6-4881-ddbe-c23914a4cf49"
      },
      "execution_count": 15,
      "outputs": [
        {
          "output_type": "stream",
          "name": "stdout",
          "text": [
            "33.9452\n",
            "-118.408056\n"
          ]
        }
      ]
    },
    {
      "cell_type": "code",
      "source": [
        "#12\n",
        "a=10; b=20\n",
        "b, a = a, b\n",
        "print(a, b)"
      ],
      "metadata": {
        "colab": {
          "base_uri": "https://localhost:8080/"
        },
        "id": "Y31ecu-2TSX4",
        "outputId": "bc1c5e2a-5202-4869-a68f-2941a4ceb8a3"
      },
      "execution_count": 17,
      "outputs": [
        {
          "output_type": "stream",
          "name": "stdout",
          "text": [
            "20 10\n"
          ]
        }
      ]
    },
    {
      "cell_type": "code",
      "source": [
        "#13\n",
        "divmod(20, 8)"
      ],
      "metadata": {
        "colab": {
          "base_uri": "https://localhost:8080/"
        },
        "id": "fX6Nc0P5TbY4",
        "outputId": "633fee82-f67b-46a5-c8b8-b5cadb875e65"
      },
      "execution_count": 18,
      "outputs": [
        {
          "output_type": "execute_result",
          "data": {
            "text/plain": [
              "(2, 4)"
            ]
          },
          "metadata": {},
          "execution_count": 18
        }
      ]
    },
    {
      "cell_type": "code",
      "source": [
        "#13_1\n",
        "t = (20, 8)\n",
        "divmod(*t)"
      ],
      "metadata": {
        "colab": {
          "base_uri": "https://localhost:8080/"
        },
        "id": "KJ6Xbc4rTg-g",
        "outputId": "b0f0a1bb-37cc-4869-ebb1-ddd1b39c964b"
      },
      "execution_count": 19,
      "outputs": [
        {
          "output_type": "execute_result",
          "data": {
            "text/plain": [
              "(2, 4)"
            ]
          },
          "metadata": {},
          "execution_count": 19
        }
      ]
    },
    {
      "cell_type": "code",
      "source": [
        "#13_2\n",
        "quotient, remainder = divmod(*t)\n",
        "quotient, remainder"
      ],
      "metadata": {
        "colab": {
          "base_uri": "https://localhost:8080/"
        },
        "id": "O-wi5yUuTrXf",
        "outputId": "0d64de0c-ea1b-4c61-b47b-617327ffb4ee"
      },
      "execution_count": 20,
      "outputs": [
        {
          "output_type": "execute_result",
          "data": {
            "text/plain": [
              "(2, 4)"
            ]
          },
          "metadata": {},
          "execution_count": 20
        }
      ]
    },
    {
      "cell_type": "code",
      "source": [
        "#14\n",
        "import os\n",
        "_, filename = os.path.split('/home/luciano/.ssh/idrsa.pub')\n",
        "filename"
      ],
      "metadata": {
        "colab": {
          "base_uri": "https://localhost:8080/",
          "height": 35
        },
        "id": "sNuBzIJXTyYI",
        "outputId": "81bb24e5-bc77-4f26-9ebd-528a29eb3d1a"
      },
      "execution_count": 21,
      "outputs": [
        {
          "output_type": "execute_result",
          "data": {
            "text/plain": [
              "'idrsa.pub'"
            ],
            "application/vnd.google.colaboratory.intrinsic+json": {
              "type": "string"
            }
          },
          "metadata": {},
          "execution_count": 21
        }
      ]
    },
    {
      "cell_type": "code",
      "source": [
        "#15\n",
        "a, b, *rest = range(5)\n",
        "a, b, rest"
      ],
      "metadata": {
        "colab": {
          "base_uri": "https://localhost:8080/"
        },
        "id": "7cbfqwjwUBaR",
        "outputId": "4510ad79-88e0-43d7-e973-792042c6f8ef"
      },
      "execution_count": 22,
      "outputs": [
        {
          "output_type": "execute_result",
          "data": {
            "text/plain": [
              "(0, 1, [2, 3, 4])"
            ]
          },
          "metadata": {},
          "execution_count": 22
        }
      ]
    },
    {
      "cell_type": "code",
      "source": [
        "#15_1\n",
        "a, b, *rest = range(3)\n",
        "a, b, rest"
      ],
      "metadata": {
        "colab": {
          "base_uri": "https://localhost:8080/"
        },
        "id": "yllng9EaURFw",
        "outputId": "aa2cd8d2-463f-41ac-9c63-4b04813b813a"
      },
      "execution_count": 23,
      "outputs": [
        {
          "output_type": "execute_result",
          "data": {
            "text/plain": [
              "(0, 1, [2])"
            ]
          },
          "metadata": {},
          "execution_count": 23
        }
      ]
    },
    {
      "cell_type": "code",
      "source": [
        "#15_2\n",
        "a, b, *rest = range(2)\n",
        "a, b, rest"
      ],
      "metadata": {
        "colab": {
          "base_uri": "https://localhost:8080/"
        },
        "id": "eKkneTcjUVRg",
        "outputId": "ff71b441-7734-45f0-f7b3-bee4dcf23204"
      },
      "execution_count": 24,
      "outputs": [
        {
          "output_type": "execute_result",
          "data": {
            "text/plain": [
              "(0, 1, [])"
            ]
          },
          "metadata": {},
          "execution_count": 24
        }
      ]
    },
    {
      "cell_type": "code",
      "source": [
        "#16\n",
        "a, *body, c, d = range(5)\n",
        "a, body, c, d"
      ],
      "metadata": {
        "colab": {
          "base_uri": "https://localhost:8080/"
        },
        "id": "wOD6w3JhUZNI",
        "outputId": "f3894b91-022f-46ae-d87f-06b771a15e2d"
      },
      "execution_count": 25,
      "outputs": [
        {
          "output_type": "execute_result",
          "data": {
            "text/plain": [
              "(0, [1, 2], 3, 4)"
            ]
          },
          "metadata": {},
          "execution_count": 25
        }
      ]
    },
    {
      "cell_type": "code",
      "source": [
        "#16_1\n",
        "*head, b, c, d = range(5)\n",
        "head, b, c, d"
      ],
      "metadata": {
        "colab": {
          "base_uri": "https://localhost:8080/"
        },
        "id": "Nuipu37dUilI",
        "outputId": "022f32ce-37e7-4f0b-962f-8a0dc8c4ceac"
      },
      "execution_count": 26,
      "outputs": [
        {
          "output_type": "execute_result",
          "data": {
            "text/plain": [
              "([0, 1], 2, 3, 4)"
            ]
          },
          "metadata": {},
          "execution_count": 26
        }
      ]
    },
    {
      "cell_type": "code",
      "source": [
        "#17\n",
        "metro_areas = [\n",
        "    ('Tokyo', 'JP', 36.933, (35, 139)),\n",
        "    (\"Delhi NCR\", \"IN\", 21, (28, 77)),\n",
        "    (\"Mexico City\", \"MX\", 20, (19, -99)),\n",
        "    (\"New York-Newark\", \"US\", 20, (40, -74)),\n",
        "    (\"Sao Paulo\", \"BR\", 19, (-23, -46))\n",
        "]\n",
        "\n",
        "print(\"{:15} | {:^9} | {:^9}\".format(\"\", \"lat.\", \"long.\"))\n",
        "fmt = '{:15} | {:9.4f} | {:9.4f}'\n",
        "\n",
        "for name, cc, pop, (lat, longi) in metro_areas:\n",
        "  if longitude <= 0:\n",
        "    print(fmt.format(name, lat, longi))"
      ],
      "metadata": {
        "colab": {
          "base_uri": "https://localhost:8080/"
        },
        "id": "OoHB0zBZUruQ",
        "outputId": "3795a98d-9fb0-41c6-e442-d8b94e2b43df"
      },
      "execution_count": 27,
      "outputs": [
        {
          "output_type": "stream",
          "name": "stdout",
          "text": [
            "                |   lat.    |   long.  \n",
            "Tokyo           |   35.0000 |  139.0000\n",
            "Delhi NCR       |   28.0000 |   77.0000\n",
            "Mexico City     |   19.0000 |  -99.0000\n",
            "New York-Newark |   40.0000 |  -74.0000\n",
            "Sao Paulo       |  -23.0000 |  -46.0000\n"
          ]
        }
      ]
    },
    {
      "cell_type": "code",
      "source": [
        "#18\n",
        "from collections import namedtuple\n",
        "City = namedtuple('City', 'name country population coordinates')\n",
        "tokyo = city('Tokyo', 'JP', 36.933, (35.689, 139.691))\n",
        "tokyo"
      ],
      "metadata": {
        "colab": {
          "base_uri": "https://localhost:8080/"
        },
        "id": "2GlJ0gbvVrNZ",
        "outputId": "12fd2f1c-5867-402a-dc5d-8e015fcfc677"
      },
      "execution_count": 35,
      "outputs": [
        {
          "output_type": "execute_result",
          "data": {
            "text/plain": [
              "city(name='Tokyo', country='JP', population=36.933, coordinates=(35.689, 139.691))"
            ]
          },
          "metadata": {},
          "execution_count": 35
        }
      ]
    },
    {
      "cell_type": "code",
      "source": [
        "#18_1\n",
        "tokyo.population"
      ],
      "metadata": {
        "colab": {
          "base_uri": "https://localhost:8080/"
        },
        "id": "JTtcYIw8V-rw",
        "outputId": "ff5e3bea-6ff9-4dd7-959f-bba03e2bd3f6"
      },
      "execution_count": 36,
      "outputs": [
        {
          "output_type": "execute_result",
          "data": {
            "text/plain": [
              "36.933"
            ]
          },
          "metadata": {},
          "execution_count": 36
        }
      ]
    },
    {
      "cell_type": "code",
      "source": [
        "#18_2\n",
        "tokyo.coordinates"
      ],
      "metadata": {
        "colab": {
          "base_uri": "https://localhost:8080/"
        },
        "id": "MSqWmC6mWDs_",
        "outputId": "5fc5ce4c-ba89-4e41-fd0d-ed9ba8468510"
      },
      "execution_count": 37,
      "outputs": [
        {
          "output_type": "execute_result",
          "data": {
            "text/plain": [
              "(35.689, 139.691)"
            ]
          },
          "metadata": {},
          "execution_count": 37
        }
      ]
    },
    {
      "cell_type": "code",
      "source": [
        "#18_2\n",
        "tokyo[1]"
      ],
      "metadata": {
        "colab": {
          "base_uri": "https://localhost:8080/",
          "height": 35
        },
        "id": "VxXwdDKkWIkX",
        "outputId": "752bac33-25b0-4d39-fce2-e08ec2b860ef"
      },
      "execution_count": 38,
      "outputs": [
        {
          "output_type": "execute_result",
          "data": {
            "text/plain": [
              "'JP'"
            ],
            "application/vnd.google.colaboratory.intrinsic+json": {
              "type": "string"
            }
          },
          "metadata": {},
          "execution_count": 38
        }
      ]
    },
    {
      "cell_type": "code",
      "source": [
        "#19\n",
        "City._fields"
      ],
      "metadata": {
        "colab": {
          "base_uri": "https://localhost:8080/"
        },
        "id": "BCASVcFZWNIX",
        "outputId": "97fbd16c-730e-4b57-825e-e1519a985a63"
      },
      "execution_count": 39,
      "outputs": [
        {
          "output_type": "execute_result",
          "data": {
            "text/plain": [
              "('name', 'country', 'population', 'coordinates')"
            ]
          },
          "metadata": {},
          "execution_count": 39
        }
      ]
    },
    {
      "cell_type": "code",
      "source": [
        "#19_1\n",
        "latLong = namedtuple('LatLong', 'lat long')\n",
        "delhi_data = ('Delhi NCR', 'IN', 21.935, latLong(28.613, 77.208))"
      ],
      "metadata": {
        "id": "DjPwWS_QWW2P"
      },
      "execution_count": 40,
      "outputs": []
    },
    {
      "cell_type": "code",
      "source": [
        "#19_2\n",
        "delhi = City._make(delhi_data)\n",
        "delhi._asdict()"
      ],
      "metadata": {
        "colab": {
          "base_uri": "https://localhost:8080/"
        },
        "id": "BniZdK5UWlFQ",
        "outputId": "2e2dffd1-8933-4cac-9817-c66c0908dc57"
      },
      "execution_count": 41,
      "outputs": [
        {
          "output_type": "execute_result",
          "data": {
            "text/plain": [
              "{'name': 'Delhi NCR',\n",
              " 'country': 'IN',\n",
              " 'population': 21.935,\n",
              " 'coordinates': LatLong(lat=28.613, long=77.208)}"
            ]
          },
          "metadata": {},
          "execution_count": 41
        }
      ]
    },
    {
      "cell_type": "code",
      "source": [
        "#19_3\n",
        "for key, value in delhi._asdict().items():\n",
        "  print(key + ':', value)"
      ],
      "metadata": {
        "colab": {
          "base_uri": "https://localhost:8080/"
        },
        "id": "rzduNTUZW6Ew",
        "outputId": "04386b59-edf4-4ee1-dbf9-73bc1baca095"
      },
      "execution_count": 42,
      "outputs": [
        {
          "output_type": "stream",
          "name": "stdout",
          "text": [
            "name: Delhi NCR\n",
            "country: IN\n",
            "population: 21.935\n",
            "coordinates: LatLong(lat=28.613, long=77.208)\n"
          ]
        }
      ]
    },
    {
      "cell_type": "code",
      "source": [
        "#20\n",
        "l = [10, 20, 30, 40, 50, 60]\n",
        "l[:2]"
      ],
      "metadata": {
        "colab": {
          "base_uri": "https://localhost:8080/"
        },
        "id": "xK7qcYF7XALY",
        "outputId": "6a7fdfa0-24f0-4538-89e4-926124ed0fcd"
      },
      "execution_count": 43,
      "outputs": [
        {
          "output_type": "execute_result",
          "data": {
            "text/plain": [
              "[10, 20]"
            ]
          },
          "metadata": {},
          "execution_count": 43
        }
      ]
    },
    {
      "cell_type": "code",
      "source": [
        "#20_1\n",
        "l[2:]"
      ],
      "metadata": {
        "colab": {
          "base_uri": "https://localhost:8080/"
        },
        "id": "IXgUkaCxXL9_",
        "outputId": "88053541-0fe9-42f4-a2e3-eb5d563e9e3c"
      },
      "execution_count": 44,
      "outputs": [
        {
          "output_type": "execute_result",
          "data": {
            "text/plain": [
              "[30, 40, 50, 60]"
            ]
          },
          "metadata": {},
          "execution_count": 44
        }
      ]
    },
    {
      "cell_type": "code",
      "source": [
        "#20_2\n",
        "l[:3]"
      ],
      "metadata": {
        "colab": {
          "base_uri": "https://localhost:8080/"
        },
        "id": "FxyCLZDjXPdI",
        "outputId": "cfc6daeb-2046-4d15-c70a-099201b1168d"
      },
      "execution_count": 45,
      "outputs": [
        {
          "output_type": "execute_result",
          "data": {
            "text/plain": [
              "[10, 20, 30]"
            ]
          },
          "metadata": {},
          "execution_count": 45
        }
      ]
    },
    {
      "cell_type": "code",
      "source": [
        "#20_3\n",
        "l[3:]"
      ],
      "metadata": {
        "colab": {
          "base_uri": "https://localhost:8080/"
        },
        "id": "DpCh2MJIXTan",
        "outputId": "76d0879d-56a4-4a18-f49a-bb4990409fea"
      },
      "execution_count": 46,
      "outputs": [
        {
          "output_type": "execute_result",
          "data": {
            "text/plain": [
              "[40, 50, 60]"
            ]
          },
          "metadata": {},
          "execution_count": 46
        }
      ]
    },
    {
      "cell_type": "code",
      "source": [
        "#21\n",
        "invoice = \"\"\"\n",
        "0.....6..................25..........33.......40.......\n",
        "1909   Pimoroni             $17.50      3      $52.50\n",
        "1489   6mm Tactile          $4.95       2      $9.90\n",
        "\"\"\"\n",
        "SKU = slice(0, 6)\n",
        "DESCRIPTION = slice(6, 25)\n",
        "UNIT_PRICE = slice(25, 33)\n",
        "QUANTITY = slice(33, 40)\n",
        "ITEM_TOTAL = slice(40, None)\n",
        "\n",
        "line_items = invoice.split('\\n')[2:]\n",
        "\n",
        "for item in line_items:\n",
        "  print(item[UNIT_PRICE], item[DESCRIPTION])"
      ],
      "metadata": {
        "colab": {
          "base_uri": "https://localhost:8080/"
        },
        "id": "bKakeHmyXW3g",
        "outputId": "151123dc-ae4a-43a9-ba3d-e06a94ca42cb"
      },
      "execution_count": 54,
      "outputs": [
        {
          "output_type": "stream",
          "name": "stdout",
          "text": [
            "   $17.5  Pimoroni          \n",
            "   $4.95  6mm Tactile       \n",
            " \n"
          ]
        }
      ]
    },
    {
      "cell_type": "code",
      "source": [
        "#22\n",
        "l = list(range(10))\n",
        "l"
      ],
      "metadata": {
        "colab": {
          "base_uri": "https://localhost:8080/"
        },
        "id": "ahQdgavlY6l_",
        "outputId": "e8053013-6931-47a3-cb46-aadb5fa4e9d6"
      },
      "execution_count": 55,
      "outputs": [
        {
          "output_type": "execute_result",
          "data": {
            "text/plain": [
              "[0, 1, 2, 3, 4, 5, 6, 7, 8, 9]"
            ]
          },
          "metadata": {},
          "execution_count": 55
        }
      ]
    },
    {
      "cell_type": "code",
      "source": [
        "#22_1\n",
        "l[2:5] = [20, 30]\n",
        "l"
      ],
      "metadata": {
        "colab": {
          "base_uri": "https://localhost:8080/"
        },
        "id": "JB5pihzkY_ef",
        "outputId": "b563a730-7fe8-4cab-d9f9-bcef0ca318ec"
      },
      "execution_count": 56,
      "outputs": [
        {
          "output_type": "execute_result",
          "data": {
            "text/plain": [
              "[0, 1, 20, 30, 5, 6, 7, 8, 9]"
            ]
          },
          "metadata": {},
          "execution_count": 56
        }
      ]
    },
    {
      "cell_type": "code",
      "source": [
        "#22_2\n",
        "del l[5:7]\n",
        "l"
      ],
      "metadata": {
        "colab": {
          "base_uri": "https://localhost:8080/"
        },
        "id": "RtnuZoClZFin",
        "outputId": "b332c6ca-ccae-4417-d346-13a4e771a383"
      },
      "execution_count": 57,
      "outputs": [
        {
          "output_type": "execute_result",
          "data": {
            "text/plain": [
              "[0, 1, 20, 30, 5, 8, 9]"
            ]
          },
          "metadata": {},
          "execution_count": 57
        }
      ]
    },
    {
      "cell_type": "code",
      "source": [
        "#22_3\n",
        "l[3::2] = [11, 22]\n",
        "l"
      ],
      "metadata": {
        "colab": {
          "base_uri": "https://localhost:8080/"
        },
        "id": "qZF1AsdTZIlW",
        "outputId": "1bcf0704-7750-4c33-ce64-635a01d0e90e"
      },
      "execution_count": 58,
      "outputs": [
        {
          "output_type": "execute_result",
          "data": {
            "text/plain": [
              "[0, 1, 20, 11, 5, 22, 9]"
            ]
          },
          "metadata": {},
          "execution_count": 58
        }
      ]
    },
    {
      "cell_type": "code",
      "source": [
        "#23\n",
        "l[2:5] = 100"
      ],
      "metadata": {
        "colab": {
          "base_uri": "https://localhost:8080/",
          "height": 166
        },
        "id": "J-VURwmZZQov",
        "outputId": "498ef2cc-99b1-4372-833b-0d0b2ca4aca4"
      },
      "execution_count": 59,
      "outputs": [
        {
          "output_type": "error",
          "ename": "TypeError",
          "evalue": "must assign iterable to extended slice",
          "traceback": [
            "\u001b[0;31m---------------------------------------------------------------------------\u001b[0m",
            "\u001b[0;31mTypeError\u001b[0m                                 Traceback (most recent call last)",
            "\u001b[0;32m/tmp/ipython-input-3225918357.py\u001b[0m in \u001b[0;36m<cell line: 0>\u001b[0;34m()\u001b[0m\n\u001b[1;32m      1\u001b[0m \u001b[0;31m#23\u001b[0m\u001b[0;34m\u001b[0m\u001b[0;34m\u001b[0m\u001b[0m\n\u001b[0;32m----> 2\u001b[0;31m \u001b[0ml\u001b[0m\u001b[0;34m[\u001b[0m\u001b[0;36m2\u001b[0m\u001b[0;34m:\u001b[0m\u001b[0;36m5\u001b[0m\u001b[0;34m]\u001b[0m \u001b[0;34m=\u001b[0m \u001b[0;36m100\u001b[0m\u001b[0;34m\u001b[0m\u001b[0;34m\u001b[0m\u001b[0m\n\u001b[0m",
            "\u001b[0;31mTypeError\u001b[0m: must assign iterable to extended slice"
          ]
        }
      ]
    },
    {
      "cell_type": "code",
      "source": [
        "#24\n",
        "l[2:5] = [100]\n",
        "l"
      ],
      "metadata": {
        "colab": {
          "base_uri": "https://localhost:8080/"
        },
        "id": "yJ8kSjpiZein",
        "outputId": "442f0c21-1b56-4579-bf51-8adfe8ff9b18"
      },
      "execution_count": 60,
      "outputs": [
        {
          "output_type": "execute_result",
          "data": {
            "text/plain": [
              "[0, 1, 100, 22, 9]"
            ]
          },
          "metadata": {},
          "execution_count": 60
        }
      ]
    },
    {
      "cell_type": "code",
      "source": [
        "#25\n",
        "l = [1, 2, 3]\n",
        "l * 5"
      ],
      "metadata": {
        "colab": {
          "base_uri": "https://localhost:8080/"
        },
        "id": "ndRT7ZZqZkYv",
        "outputId": "edab3527-2c36-4d19-8172-c96462a845ec"
      },
      "execution_count": 61,
      "outputs": [
        {
          "output_type": "execute_result",
          "data": {
            "text/plain": [
              "[1, 2, 3, 1, 2, 3, 1, 2, 3, 1, 2, 3, 1, 2, 3]"
            ]
          },
          "metadata": {},
          "execution_count": 61
        }
      ]
    },
    {
      "cell_type": "code",
      "source": [
        "#25_1\n",
        "5 * 'abcd'"
      ],
      "metadata": {
        "colab": {
          "base_uri": "https://localhost:8080/",
          "height": 35
        },
        "id": "VvZsjvrlZpTX",
        "outputId": "cfa7786f-1b3e-4e00-f6e9-fac37c332d72"
      },
      "execution_count": 62,
      "outputs": [
        {
          "output_type": "execute_result",
          "data": {
            "text/plain": [
              "'abcdabcdabcdabcdabcd'"
            ],
            "application/vnd.google.colaboratory.intrinsic+json": {
              "type": "string"
            }
          },
          "metadata": {},
          "execution_count": 62
        }
      ]
    },
    {
      "cell_type": "code",
      "source": [
        "#26\n",
        "board = [['_'] * 3 for i in range(3)]\n",
        "board"
      ],
      "metadata": {
        "colab": {
          "base_uri": "https://localhost:8080/"
        },
        "id": "ibW_DdSNZuWH",
        "outputId": "f639be2e-09dc-46f9-87dd-4e05cc606280"
      },
      "execution_count": 68,
      "outputs": [
        {
          "output_type": "execute_result",
          "data": {
            "text/plain": [
              "[['_', '_', '_'], ['_', '_', '_'], ['_', '_', '_']]"
            ]
          },
          "metadata": {},
          "execution_count": 68
        }
      ]
    },
    {
      "cell_type": "code",
      "source": [
        "#26_1\n",
        "board[1][2] = 'X'\n",
        "board"
      ],
      "metadata": {
        "colab": {
          "base_uri": "https://localhost:8080/"
        },
        "id": "b9Pm1FtcZ2dH",
        "outputId": "73335c15-bbf9-4e4b-f766-8f89b12f2c73"
      },
      "execution_count": 69,
      "outputs": [
        {
          "output_type": "execute_result",
          "data": {
            "text/plain": [
              "[['_', '_', '_'], ['_', '_', 'X'], ['_', '_', '_']]"
            ]
          },
          "metadata": {},
          "execution_count": 69
        }
      ]
    },
    {
      "cell_type": "code",
      "source": [
        "#27\n",
        "weird_board = [['_'] * 3] * 3\n",
        "weird_board"
      ],
      "metadata": {
        "colab": {
          "base_uri": "https://localhost:8080/"
        },
        "id": "orvGm85zaJQ2",
        "outputId": "88aec8ac-b1e0-491b-82cc-15b4de735344"
      },
      "execution_count": 70,
      "outputs": [
        {
          "output_type": "execute_result",
          "data": {
            "text/plain": [
              "[['_', '_', '_'], ['_', '_', '_'], ['_', '_', '_']]"
            ]
          },
          "metadata": {},
          "execution_count": 70
        }
      ]
    },
    {
      "cell_type": "code",
      "source": [
        "#27_1\n",
        "weird_board[1][2] = '0'\n",
        "weird_board"
      ],
      "metadata": {
        "colab": {
          "base_uri": "https://localhost:8080/"
        },
        "id": "ttWttY7_aODF",
        "outputId": "907305c2-ca31-4f5a-9c8d-cf5e595b923d"
      },
      "execution_count": 71,
      "outputs": [
        {
          "output_type": "execute_result",
          "data": {
            "text/plain": [
              "[['_', '_', '0'], ['_', '_', '0'], ['_', '_', '0']]"
            ]
          },
          "metadata": {},
          "execution_count": 71
        }
      ]
    },
    {
      "cell_type": "code",
      "source": [
        "#28\n",
        "row = ['_'] * 3\n",
        "board = []\n",
        "for i in range(3):\n",
        "  board.append(row)\n",
        "\n",
        "board[1][2] = 'X'\n",
        "\n",
        "board"
      ],
      "metadata": {
        "colab": {
          "base_uri": "https://localhost:8080/"
        },
        "id": "H5veaNwyaaEG",
        "outputId": "3802b247-9b55-43d7-88cd-66fcceb93893"
      },
      "execution_count": 72,
      "outputs": [
        {
          "output_type": "execute_result",
          "data": {
            "text/plain": [
              "[['_', '_', 'X'], ['_', '_', 'X'], ['_', '_', 'X']]"
            ]
          },
          "metadata": {},
          "execution_count": 72
        }
      ]
    },
    {
      "cell_type": "code",
      "source": [
        "#29\n",
        "board = []\n",
        "for i in range(3):\n",
        "  row = ['_'] * 3\n",
        "  board.append(row)\n",
        "\n",
        "print(board)\n",
        "\n",
        "board[2][0] = 'X'\n",
        "\n",
        "board"
      ],
      "metadata": {
        "colab": {
          "base_uri": "https://localhost:8080/"
        },
        "id": "ATqMIPs-arcW",
        "outputId": "3925d588-948d-4a6c-d599-08b403110de3"
      },
      "execution_count": 74,
      "outputs": [
        {
          "output_type": "stream",
          "name": "stdout",
          "text": [
            "[['_', '_', '_'], ['_', '_', '_'], ['_', '_', '_']]\n"
          ]
        },
        {
          "output_type": "execute_result",
          "data": {
            "text/plain": [
              "[['_', '_', '_'], ['_', '_', '_'], ['X', '_', '_']]"
            ]
          },
          "metadata": {},
          "execution_count": 74
        }
      ]
    },
    {
      "cell_type": "code",
      "source": [
        "#30\n",
        "l = [1,2,3]\n",
        "id(l)"
      ],
      "metadata": {
        "colab": {
          "base_uri": "https://localhost:8080/"
        },
        "id": "FGFn_hkKbCln",
        "outputId": "bc61c36d-3ddb-47e9-80aa-b1cd33e1e08f"
      },
      "execution_count": 112,
      "outputs": [
        {
          "output_type": "execute_result",
          "data": {
            "text/plain": [
              "133496920483264"
            ]
          },
          "metadata": {},
          "execution_count": 112
        }
      ]
    },
    {
      "cell_type": "code",
      "source": [
        "#30_1\n",
        "l *= 2\n",
        "l"
      ],
      "metadata": {
        "colab": {
          "base_uri": "https://localhost:8080/"
        },
        "id": "jFe4KZA7bUT2",
        "outputId": "8ae8f433-b3fd-406a-bb33-443621b7d8bf"
      },
      "execution_count": 113,
      "outputs": [
        {
          "output_type": "execute_result",
          "data": {
            "text/plain": [
              "[1, 2, 3, 1, 2, 3]"
            ]
          },
          "metadata": {},
          "execution_count": 113
        }
      ]
    },
    {
      "cell_type": "code",
      "source": [
        "#30_2\n",
        "id(l)"
      ],
      "metadata": {
        "colab": {
          "base_uri": "https://localhost:8080/"
        },
        "id": "OAlRHfWPbage",
        "outputId": "2b68ac3b-292d-4fa8-d2ff-b2df4b2e080e"
      },
      "execution_count": 114,
      "outputs": [
        {
          "output_type": "execute_result",
          "data": {
            "text/plain": [
              "133496920483264"
            ]
          },
          "metadata": {},
          "execution_count": 114
        }
      ]
    },
    {
      "cell_type": "code",
      "source": [
        "#31 t= (1, 2, 3)\n",
        "id(t)"
      ],
      "metadata": {
        "colab": {
          "base_uri": "https://localhost:8080/"
        },
        "id": "Fgh_NA91bd8e",
        "outputId": "791328f5-722d-46bb-c9d3-804ba8570f38"
      },
      "execution_count": 115,
      "outputs": [
        {
          "output_type": "execute_result",
          "data": {
            "text/plain": [
              "133496928544896"
            ]
          },
          "metadata": {},
          "execution_count": 115
        }
      ]
    },
    {
      "cell_type": "code",
      "source": [
        "#30_1\n",
        "t *= 2\n",
        "id(t)"
      ],
      "metadata": {
        "colab": {
          "base_uri": "https://localhost:8080/"
        },
        "id": "nOT3265qbiuu",
        "outputId": "57f9d258-6b09-438d-9ce6-13fcb75c7b61"
      },
      "execution_count": 116,
      "outputs": [
        {
          "output_type": "execute_result",
          "data": {
            "text/plain": [
              "133496920550800"
            ]
          },
          "metadata": {},
          "execution_count": 116
        }
      ]
    },
    {
      "cell_type": "code",
      "source": [
        "#32\n",
        "t = (1, 2, [30, 40])\n",
        "print(t)\n",
        "\n",
        "t[2] += [50, 60]"
      ],
      "metadata": {
        "colab": {
          "base_uri": "https://localhost:8080/",
          "height": 202
        },
        "id": "IO8ZBfaybm1W",
        "outputId": "4cb2a415-cd88-4168-a1ae-3ff7964c1b34"
      },
      "execution_count": 117,
      "outputs": [
        {
          "output_type": "stream",
          "name": "stdout",
          "text": [
            "(1, 2, [30, 40])\n"
          ]
        },
        {
          "output_type": "error",
          "ename": "TypeError",
          "evalue": "'tuple' object does not support item assignment",
          "traceback": [
            "\u001b[0;31m---------------------------------------------------------------------------\u001b[0m",
            "\u001b[0;31mTypeError\u001b[0m                                 Traceback (most recent call last)",
            "\u001b[0;32m/tmp/ipython-input-4109531715.py\u001b[0m in \u001b[0;36m<cell line: 0>\u001b[0;34m()\u001b[0m\n\u001b[1;32m      3\u001b[0m \u001b[0mprint\u001b[0m\u001b[0;34m(\u001b[0m\u001b[0mt\u001b[0m\u001b[0;34m)\u001b[0m\u001b[0;34m\u001b[0m\u001b[0;34m\u001b[0m\u001b[0m\n\u001b[1;32m      4\u001b[0m \u001b[0;34m\u001b[0m\u001b[0m\n\u001b[0;32m----> 5\u001b[0;31m \u001b[0mt\u001b[0m\u001b[0;34m[\u001b[0m\u001b[0;36m2\u001b[0m\u001b[0;34m]\u001b[0m \u001b[0;34m+=\u001b[0m \u001b[0;34m[\u001b[0m\u001b[0;36m50\u001b[0m\u001b[0;34m,\u001b[0m \u001b[0;36m60\u001b[0m\u001b[0;34m]\u001b[0m\u001b[0;34m\u001b[0m\u001b[0;34m\u001b[0m\u001b[0m\n\u001b[0m",
            "\u001b[0;31mTypeError\u001b[0m: 'tuple' object does not support item assignment"
          ]
        }
      ]
    },
    {
      "cell_type": "code",
      "source": [
        "#33\n",
        "print(t)"
      ],
      "metadata": {
        "colab": {
          "base_uri": "https://localhost:8080/"
        },
        "id": "5YJBF_UDb0bV",
        "outputId": "dad1cdec-5623-4a42-86cc-a09877f3df95"
      },
      "execution_count": 118,
      "outputs": [
        {
          "output_type": "stream",
          "name": "stdout",
          "text": [
            "(1, 2, [30, 40, 50, 60])\n"
          ]
        }
      ]
    },
    {
      "cell_type": "code",
      "source": [
        "#34\n",
        "fruits = ['grape', 'raspberry', 'apple', 'banana']\n",
        "sorted(fruits)"
      ],
      "metadata": {
        "colab": {
          "base_uri": "https://localhost:8080/"
        },
        "id": "q8yW7Z-Pb4lO",
        "outputId": "46646749-bc55-43ca-cc05-62e13e91581e"
      },
      "execution_count": 119,
      "outputs": [
        {
          "output_type": "execute_result",
          "data": {
            "text/plain": [
              "['apple', 'banana', 'grape', 'raspberry']"
            ]
          },
          "metadata": {},
          "execution_count": 119
        }
      ]
    },
    {
      "cell_type": "code",
      "source": [
        "#34_1\n",
        "fruits"
      ],
      "metadata": {
        "colab": {
          "base_uri": "https://localhost:8080/"
        },
        "id": "PpNO4kF9cEWu",
        "outputId": "e2912831-6a2e-4304-af6a-26fa2af70e02"
      },
      "execution_count": 120,
      "outputs": [
        {
          "output_type": "execute_result",
          "data": {
            "text/plain": [
              "['grape', 'raspberry', 'apple', 'banana']"
            ]
          },
          "metadata": {},
          "execution_count": 120
        }
      ]
    },
    {
      "cell_type": "code",
      "source": [
        "#34_2\n",
        "sorted(fruits, reverse=True)"
      ],
      "metadata": {
        "colab": {
          "base_uri": "https://localhost:8080/"
        },
        "id": "K-C4YkPbcI3m",
        "outputId": "04db3eab-c485-4191-9354-9136f2a76e21"
      },
      "execution_count": 121,
      "outputs": [
        {
          "output_type": "execute_result",
          "data": {
            "text/plain": [
              "['raspberry', 'grape', 'banana', 'apple']"
            ]
          },
          "metadata": {},
          "execution_count": 121
        }
      ]
    },
    {
      "cell_type": "code",
      "source": [
        "#34_3\n",
        "sorted(fruits, key=len)"
      ],
      "metadata": {
        "colab": {
          "base_uri": "https://localhost:8080/"
        },
        "id": "w18uHDHIcN4n",
        "outputId": "6d7d8ebf-d43c-45fa-f38f-b5afa4813038"
      },
      "execution_count": 122,
      "outputs": [
        {
          "output_type": "execute_result",
          "data": {
            "text/plain": [
              "['grape', 'apple', 'banana', 'raspberry']"
            ]
          },
          "metadata": {},
          "execution_count": 122
        }
      ]
    },
    {
      "cell_type": "code",
      "source": [
        "#35\n",
        "sorted(fruits, key=len, reverse=True)"
      ],
      "metadata": {
        "colab": {
          "base_uri": "https://localhost:8080/"
        },
        "id": "SohDOEiecR7u",
        "outputId": "79860082-e9b4-42af-87a3-0a62db9af9a3"
      },
      "execution_count": 123,
      "outputs": [
        {
          "output_type": "execute_result",
          "data": {
            "text/plain": [
              "['raspberry', 'banana', 'grape', 'apple']"
            ]
          },
          "metadata": {},
          "execution_count": 123
        }
      ]
    },
    {
      "cell_type": "code",
      "source": [
        "#35_1\n",
        "fruits"
      ],
      "metadata": {
        "colab": {
          "base_uri": "https://localhost:8080/"
        },
        "id": "C-N4SEGOcV0O",
        "outputId": "5845639a-e4bc-422b-8dae-360f13a44fd6"
      },
      "execution_count": 124,
      "outputs": [
        {
          "output_type": "execute_result",
          "data": {
            "text/plain": [
              "['grape', 'raspberry', 'apple', 'banana']"
            ]
          },
          "metadata": {},
          "execution_count": 124
        }
      ]
    },
    {
      "cell_type": "code",
      "source": [
        "#35_2\n",
        "fruits.sort()\n",
        "fruits"
      ],
      "metadata": {
        "colab": {
          "base_uri": "https://localhost:8080/"
        },
        "id": "Y_fjEZgPcYDG",
        "outputId": "82537030-f40d-4333-a787-43d5e4b464df"
      },
      "execution_count": 125,
      "outputs": [
        {
          "output_type": "execute_result",
          "data": {
            "text/plain": [
              "['apple', 'banana', 'grape', 'raspberry']"
            ]
          },
          "metadata": {},
          "execution_count": 125
        }
      ]
    },
    {
      "cell_type": "code",
      "source": [
        "#36\n",
        "from array import array\n",
        "from random import random\n",
        "floats = array('d', (random() for i in range(10**7)))\n",
        "floats[-1]"
      ],
      "metadata": {
        "colab": {
          "base_uri": "https://localhost:8080/"
        },
        "id": "J4xTtpD1cd2W",
        "outputId": "ecbaaab7-2256-47a5-e14c-d6b12eb4572e"
      },
      "execution_count": 127,
      "outputs": [
        {
          "output_type": "execute_result",
          "data": {
            "text/plain": [
              "0.4865465638547779"
            ]
          },
          "metadata": {},
          "execution_count": 127
        }
      ]
    },
    {
      "cell_type": "code",
      "source": [
        "#37\n",
        "with open('floats.bin', 'wb') as f:\n",
        "  floats.tofile(f)"
      ],
      "metadata": {
        "id": "sg2ArQ-wctiu"
      },
      "execution_count": 128,
      "outputs": []
    },
    {
      "cell_type": "code",
      "source": [
        "#37_1\n",
        "floats2 = array('d')\n",
        "with open('floats.bin', 'rb') as f:\n",
        "  floats2.fromfile(f, 10**7)\n",
        "\n",
        "floats2[-1]"
      ],
      "metadata": {
        "colab": {
          "base_uri": "https://localhost:8080/"
        },
        "id": "nWWrLFfTc1H2",
        "outputId": "03bc1ae5-9569-4944-f583-8ca83bca5419"
      },
      "execution_count": 133,
      "outputs": [
        {
          "output_type": "execute_result",
          "data": {
            "text/plain": [
              "0.4865465638547779"
            ]
          },
          "metadata": {},
          "execution_count": 133
        }
      ]
    },
    {
      "cell_type": "code",
      "source": [
        "#37_2\n",
        "floats == floats2"
      ],
      "metadata": {
        "colab": {
          "base_uri": "https://localhost:8080/"
        },
        "id": "OeoimFEpc2be",
        "outputId": "ca44ad81-26a8-463c-a041-371d8c61506e"
      },
      "execution_count": 134,
      "outputs": [
        {
          "output_type": "execute_result",
          "data": {
            "text/plain": [
              "True"
            ]
          },
          "metadata": {},
          "execution_count": 134
        }
      ]
    },
    {
      "cell_type": "code",
      "source": [
        "#38\n",
        "import array\n",
        "numbers = array.array('h', [-2, -1, 0, 1, 2])\n",
        "memv = memoryview(numbers)\n",
        "len(memv)"
      ],
      "metadata": {
        "colab": {
          "base_uri": "https://localhost:8080/"
        },
        "id": "aW8v3JUUdFo2",
        "outputId": "e87dc4ad-8cbb-449d-94ea-964302a1efbb"
      },
      "execution_count": 135,
      "outputs": [
        {
          "output_type": "execute_result",
          "data": {
            "text/plain": [
              "5"
            ]
          },
          "metadata": {},
          "execution_count": 135
        }
      ]
    },
    {
      "cell_type": "code",
      "source": [
        "#38_1\n",
        "memv[0]"
      ],
      "metadata": {
        "colab": {
          "base_uri": "https://localhost:8080/"
        },
        "id": "EEEpuP_ndd2-",
        "outputId": "928cb8be-6618-4f81-a7c5-a60cd6d19517"
      },
      "execution_count": 136,
      "outputs": [
        {
          "output_type": "execute_result",
          "data": {
            "text/plain": [
              "-2"
            ]
          },
          "metadata": {},
          "execution_count": 136
        }
      ]
    },
    {
      "cell_type": "code",
      "source": [
        "#38_2\n",
        "memv_oct = memv.cast('B')\n",
        "memv_oct.tolist()"
      ],
      "metadata": {
        "colab": {
          "base_uri": "https://localhost:8080/"
        },
        "id": "2ioaaoOKdfgP",
        "outputId": "8b620a9f-b398-4694-d96f-a96996469734"
      },
      "execution_count": 137,
      "outputs": [
        {
          "output_type": "execute_result",
          "data": {
            "text/plain": [
              "[254, 255, 255, 255, 0, 0, 1, 0, 2, 0]"
            ]
          },
          "metadata": {},
          "execution_count": 137
        }
      ]
    },
    {
      "cell_type": "code",
      "source": [
        "#38_3\n",
        "memv_oct[5] = 4\n",
        "numbers"
      ],
      "metadata": {
        "colab": {
          "base_uri": "https://localhost:8080/"
        },
        "id": "62Blo-uCdhge",
        "outputId": "1050fbab-ed65-409e-85a3-2e7719ab181c"
      },
      "execution_count": 138,
      "outputs": [
        {
          "output_type": "execute_result",
          "data": {
            "text/plain": [
              "array('h', [-2, -1, 1024, 1, 2])"
            ]
          },
          "metadata": {},
          "execution_count": 138
        }
      ]
    },
    {
      "cell_type": "code",
      "source": [
        "#38-1\n",
        "data = bytearray(b'hello world')\n",
        "mv = memoryview(data)\n",
        "\n",
        "print(mv[0])\n",
        "mv[0] =72\n",
        "\n",
        "print(data)"
      ],
      "metadata": {
        "colab": {
          "base_uri": "https://localhost:8080/"
        },
        "id": "c6dtoJ8EdsFG",
        "outputId": "02ed6fbe-bd77-4ba2-ef6b-9ef1c08fba77"
      },
      "execution_count": 139,
      "outputs": [
        {
          "output_type": "stream",
          "name": "stdout",
          "text": [
            "104\n",
            "bytearray(b'Hello world')\n"
          ]
        }
      ]
    },
    {
      "cell_type": "code",
      "source": [
        "#39\n",
        "import numpy\n",
        "a = numpy.arange(12)\n",
        "a"
      ],
      "metadata": {
        "colab": {
          "base_uri": "https://localhost:8080/"
        },
        "id": "gyYaP247eClO",
        "outputId": "2a7c8ec1-7d69-4674-e2be-8d1690038d1d"
      },
      "execution_count": 154,
      "outputs": [
        {
          "output_type": "execute_result",
          "data": {
            "text/plain": [
              "array([ 0,  1,  2,  3,  4,  5,  6,  7,  8,  9, 10, 11])"
            ]
          },
          "metadata": {},
          "execution_count": 154
        }
      ]
    },
    {
      "cell_type": "code",
      "source": [
        "#40\n",
        "a.shape"
      ],
      "metadata": {
        "colab": {
          "base_uri": "https://localhost:8080/"
        },
        "id": "n4s7r5QaeKRF",
        "outputId": "7d577112-1359-4468-faf4-3ce8c6704d12"
      },
      "execution_count": 155,
      "outputs": [
        {
          "output_type": "execute_result",
          "data": {
            "text/plain": [
              "(12,)"
            ]
          },
          "metadata": {},
          "execution_count": 155
        }
      ]
    },
    {
      "cell_type": "code",
      "source": [
        "#40_1\n",
        "a.shape = 3, 4\n",
        "a"
      ],
      "metadata": {
        "colab": {
          "base_uri": "https://localhost:8080/"
        },
        "id": "Ke_jKSTVeMIG",
        "outputId": "7c7aad40-8006-49d7-bbe7-8c4de52e782a"
      },
      "execution_count": 156,
      "outputs": [
        {
          "output_type": "execute_result",
          "data": {
            "text/plain": [
              "array([[ 0,  1,  2,  3],\n",
              "       [ 4,  5,  6,  7],\n",
              "       [ 8,  9, 10, 11]])"
            ]
          },
          "metadata": {},
          "execution_count": 156
        }
      ]
    },
    {
      "cell_type": "code",
      "source": [
        "#41\n",
        "a[2]"
      ],
      "metadata": {
        "colab": {
          "base_uri": "https://localhost:8080/"
        },
        "id": "nlTLKcRDeS_F",
        "outputId": "d1e1f628-b3de-4cb8-a4e9-1e0be81a7fd4"
      },
      "execution_count": 157,
      "outputs": [
        {
          "output_type": "execute_result",
          "data": {
            "text/plain": [
              "array([ 8,  9, 10, 11])"
            ]
          },
          "metadata": {},
          "execution_count": 157
        }
      ]
    },
    {
      "cell_type": "code",
      "source": [
        "#41_1\n",
        "# a[2, 1]는 데이터 타입과 함께 반환\n",
        "print(a[2, 1])"
      ],
      "metadata": {
        "colab": {
          "base_uri": "https://localhost:8080/"
        },
        "id": "lLEQrlxXeXyN",
        "outputId": "6d903372-8925-438f-945f-8076a224384a"
      },
      "execution_count": 167,
      "outputs": [
        {
          "output_type": "stream",
          "name": "stdout",
          "text": [
            "9\n"
          ]
        }
      ]
    },
    {
      "cell_type": "code",
      "source": [
        "#41_2\n",
        "a[:, 1]"
      ],
      "metadata": {
        "colab": {
          "base_uri": "https://localhost:8080/"
        },
        "id": "26apLaeueqAd",
        "outputId": "5ae67c25-c6d7-44d8-dd74-c6adc236c42a"
      },
      "execution_count": 159,
      "outputs": [
        {
          "output_type": "execute_result",
          "data": {
            "text/plain": [
              "array([1, 5, 9])"
            ]
          },
          "metadata": {},
          "execution_count": 159
        }
      ]
    },
    {
      "cell_type": "code",
      "source": [
        "#42\n",
        "a.transpose()"
      ],
      "metadata": {
        "colab": {
          "base_uri": "https://localhost:8080/"
        },
        "id": "C09y06WWe6Jl",
        "outputId": "83f9ca5b-4822-4469-dfeb-5dbeee641ef0"
      },
      "execution_count": 162,
      "outputs": [
        {
          "output_type": "execute_result",
          "data": {
            "text/plain": [
              "array([[ 0,  4,  8],\n",
              "       [ 1,  5,  9],\n",
              "       [ 2,  6, 10],\n",
              "       [ 3,  7, 11]])"
            ]
          },
          "metadata": {},
          "execution_count": 162
        }
      ]
    }
  ]
}